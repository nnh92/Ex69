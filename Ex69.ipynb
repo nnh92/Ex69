{
  "nbformat": 4,
  "nbformat_minor": 0,
  "metadata": {
    "colab": {
      "provenance": [],
      "authorship_tag": "ABX9TyPlMeKu6mglYnDcgqsx0te6",
      "include_colab_link": true
    },
    "kernelspec": {
      "name": "python3",
      "display_name": "Python 3"
    },
    "language_info": {
      "name": "python"
    }
  },
  "cells": [
    {
      "cell_type": "markdown",
      "metadata": {
        "id": "view-in-github",
        "colab_type": "text"
      },
      "source": [
        "<a href=\"https://colab.research.google.com/github/nnh92/Ex69/blob/main/Ex69.ipynb\" target=\"_parent\"><img src=\"https://colab.research.google.com/assets/colab-badge.svg\" alt=\"Open In Colab\"/></a>"
      ]
    },
    {
      "cell_type": "code",
      "execution_count": null,
      "metadata": {
        "id": "JdNmhJ1RaQXA"
      },
      "outputs": [],
      "source": [
        "def List_Counter(s):\n",
        "  counter = []\n",
        "  lst = []\n",
        "  s = s.split('')\n",
        "\n",
        "  for i in s:\n",
        "    if i not in lst:\n",
        "      lst.append(i)\n",
        "      counter.append(1)\n",
        "    else:\n",
        "      counter[i] += counter[i]\n",
        "  return lst, counter\n",
        "\n",
        "s = input('Nhap chuoi s: ')\n",
        "\n",
        "print(List_Counter(s))\n",
        "\n"
      ]
    }
  ]
}