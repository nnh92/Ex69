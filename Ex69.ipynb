{
  "nbformat": 4,
  "nbformat_minor": 0,
  "metadata": {
    "colab": {
      "provenance": [],
      "authorship_tag": "ABX9TyNMkLz3K1EYtzWC8h4ULtZV",
      "include_colab_link": true
    },
    "kernelspec": {
      "name": "python3",
      "display_name": "Python 3"
    },
    "language_info": {
      "name": "python"
    }
  },
  "cells": [
    {
      "cell_type": "markdown",
      "metadata": {
        "id": "view-in-github",
        "colab_type": "text"
      },
      "source": [
        "<a href=\"https://colab.research.google.com/github/nnh92/Ex69/blob/main/Ex69.ipynb\" target=\"_parent\"><img src=\"https://colab.research.google.com/assets/colab-badge.svg\" alt=\"Open In Colab\"/></a>"
      ]
    },
    {
      "cell_type": "code",
      "execution_count": 12,
      "metadata": {
        "id": "JdNmhJ1RaQXA",
        "colab": {
          "base_uri": "https://localhost:8080/"
        },
        "outputId": "1f19236b-3802-4ab0-f26d-7622d4da8ac6"
      },
      "outputs": [
        {
          "output_type": "stream",
          "name": "stdout",
          "text": [
            "Nhap chuoi s: Hello world\n",
            "H: 1; e: 1; l: 3; o: 2;  : 1; w: 1; r: 1; d: 1; None\n"
          ]
        }
      ],
      "source": [
        "def List_Counter(s):\n",
        "  counter = 0\n",
        "  for i in LocDL(s):\n",
        "    counter = s.count(i)\n",
        "    print('{}: {}'.format(i, counter), end = '; ')\n",
        "\n",
        "def LocDL(s):\n",
        "  KQ = ''\n",
        "  for i in s:\n",
        "    if i not in KQ:\n",
        "      KQ += i\n",
        "  return KQ\n",
        "\n",
        "s = input('Nhap chuoi s: ')\n",
        "\n",
        "print(List_Counter(s))\n",
        "\n"
      ]
    }
  ]
}